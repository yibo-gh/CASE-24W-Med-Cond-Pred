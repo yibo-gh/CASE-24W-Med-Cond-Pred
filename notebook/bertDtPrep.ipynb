{
 "cells": [
  {
   "cell_type": "code",
   "execution_count": null,
   "id": "initial_id",
   "metadata": {
    "collapsed": true
   },
   "outputs": [],
   "source": [
    "tarICD: str = \"E11\";\n",
    "dtOri: str = f\"../data/{tarICD.lower()}.pkl\";\n",
    "mpiPkl: str = \"map/medPerIcd.pkl\""
   ]
  },
  {
   "cell_type": "code",
   "outputs": [],
   "source": [
    "import os;\n",
    "assert os.path.exists(dtOri) and os.path.exists(mpiPkl);"
   ],
   "metadata": {
    "collapsed": false
   },
   "id": "6be1d2f181f09efe"
  },
  {
   "cell_type": "code",
   "outputs": [],
   "source": [
    "import pickle;\n",
    "\n",
    "def __service_loadPickle(uri: str) -> any:\n",
    "    assert os.path.exists(uri);\n",
    "    with open(uri, \"rb\") as f:\n",
    "        return pickle.load(f);"
   ],
   "metadata": {
    "collapsed": false
   },
   "id": "a151deb154e6f858"
  },
  {
   "cell_type": "code",
   "outputs": [],
   "source": [
    "from typing import Dict, List;\n",
    "from models.transfomer import PtDS;\n",
    "\n",
    "ptds: PtDS = __service_loadPickle(dtOri);\n",
    "medPerIcdDict: Dict[str, List[str]]; parIcdMedCount: Dict[str, List[str]];\n",
    "medPerIcdDict, parIcdMedCount = __service_loadPickle(mpiPkl);"
   ],
   "metadata": {
    "collapsed": false
   },
   "id": "92af14ff3ef5e3ca"
  }
 ],
 "metadata": {
  "kernelspec": {
   "display_name": "Python 3",
   "language": "python",
   "name": "python3"
  },
  "language_info": {
   "codemirror_mode": {
    "name": "ipython",
    "version": 2
   },
   "file_extension": ".py",
   "mimetype": "text/x-python",
   "name": "python",
   "nbconvert_exporter": "python",
   "pygments_lexer": "ipython2",
   "version": "2.7.6"
  }
 },
 "nbformat": 4,
 "nbformat_minor": 5
}
