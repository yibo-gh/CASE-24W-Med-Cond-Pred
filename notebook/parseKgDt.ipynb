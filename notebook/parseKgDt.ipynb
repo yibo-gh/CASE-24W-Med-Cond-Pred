{
 "cells": [
  {
   "cell_type": "code",
   "execution_count": 1,
   "id": "db45e636-99c4-437d-bef0-ca0137d38567",
   "metadata": {},
   "outputs": [
    {
     "name": "stdout",
     "output_type": "stream",
     "text": [
      "['../data/kg_embedding/disease_embedding_cui.txt', '../data/kg_embedding/disease_embedding_icd10.txt', '../data/kg_embedding/disease_embedding_icd9.txt', '../data/kg_embedding/drug_embedding.txt']\n"
     ]
    }
   ],
   "source": [
    "kgDir: str = \"../data/kg_embedding\";\n",
    "import os;\n",
    "assert os.path.exists(kgDir);\n",
    "\n",
    "import subprocess;\n",
    "from typing import List;\n",
    "files: List[str] = subprocess.Popen(f\"ls {kgDir}\", shell=True, stdout=subprocess.PIPE).stdout.read().decode()[:-1].split(\"\\n\");\n",
    "\n",
    "def __service_compFileUri(base: str, fname: str) -> str:\n",
    "    tar: str = f\"{kgDir}{'/' if kgDir[-1] != '/' else ''}{fname}\";\n",
    "    assert os.path.exists(tar);\n",
    "    return tar;\n",
    "\n",
    "fList: List[str] = [__service_compFileUri(kgDir, f) for f in files];\n",
    "print(fList);"
   ]
  },
  {
   "cell_type": "code",
   "execution_count": 2,
   "id": "afb2da15-7bf0-480b-87e1-4a3210701798",
   "metadata": {},
   "outputs": [],
   "source": [
    "import numpy as np;\n",
    "from typing import Dict;\n",
    "\n",
    "def __service_fetchMappingDis(fname: str, d: Dict[str, np.ndarray]) -> None:\n",
    "    assert os.path.exists(fname);\n",
    "    with open (fname, \"r\") as f:\n",
    "        cont: List[str] = f.read().split(\"\\n\");\n",
    "        if cont[-1] == \"\":\n",
    "            cont = cont[:-1];\n",
    "        if len(cont[0].split(\"\\t\")) < 3:\n",
    "            return;\n",
    "        cont = cont[1:];\n",
    "        for c in cont:\n",
    "            _, icd, emb = c.split(\"\\t\");\n",
    "            d[icd[2:-2].replace(\".\", \"\")] = np.array([float(ele) for ele in emb[1:-1].split(\", \")]);\n",
    "\n",
    "def __service_fetchMappingDrug(fname: str, d: Dict[str, np.ndarray]) -> None:\n",
    "    assert os.path.exists(fname);\n",
    "    with open (fname, \"r\") as f:\n",
    "        cont: List[str] = f.read().split(\"\\n\");\n",
    "        if cont[-1] == \"\":\n",
    "            cont = cont[:-1];\n",
    "        if len(cont[0].split(\"\\t\")) < 2:\n",
    "            return;\n",
    "        cont = cont[1:];\n",
    "        for c in cont:\n",
    "            db, emb = c.split(\"\\t\");\n",
    "            d[db] = np.array([float(ele) for ele in emb[1:-1].split(\", \")]);"
   ]
  },
  {
   "cell_type": "code",
   "execution_count": 5,
   "id": "f1d1ac77-2114-4cbd-8594-00880381bcd4",
   "metadata": {},
   "outputs": [],
   "source": [
    "icd2emb: Dict[str, np.ndarray] = dict();\n",
    "dbk2emb: Dict[str, np.ndarray] = dict();\n",
    "\n",
    "for f in fList:\n",
    "    if f.split(\"/\")[-1].startswith(\"disease\"):\n",
    "        __service_fetchMappingDis(f, icd2emb);\n",
    "    elif f.split(\"/\")[-1].startswith(\"drug\"):\n",
    "        __service_fetchMappingDrug(f, dbk2emb);\n",
    "    else:\n",
    "        print(f\"No processor found for {f}\");\n",
    "\n",
    "import pickle;\n",
    "with open(\"../data/kgEmb.pkl\", \"wb\") as f:\n",
    "    pickle.dump((icd2emb, dbk2emb), f);"
   ]
  },
  {
   "cell_type": "code",
   "execution_count": null,
   "id": "3a33b3d3-e6f8-40a8-b6fd-783419c04cc2",
   "metadata": {},
   "outputs": [],
   "source": []
  }
 ],
 "metadata": {
  "kernelspec": {
   "display_name": "Python 3 (ipykernel)",
   "language": "python",
   "name": "python3"
  },
  "language_info": {
   "codemirror_mode": {
    "name": "ipython",
    "version": 3
   },
   "file_extension": ".py",
   "mimetype": "text/x-python",
   "name": "python",
   "nbconvert_exporter": "python",
   "pygments_lexer": "ipython3",
   "version": "3.11.11"
  }
 },
 "nbformat": 4,
 "nbformat_minor": 5
}
