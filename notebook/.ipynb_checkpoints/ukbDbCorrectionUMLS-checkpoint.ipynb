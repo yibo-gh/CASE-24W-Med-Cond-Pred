{
 "cells": [
  {
   "cell_type": "code",
   "execution_count": 5,
   "id": "78592ef9-1a6f-49b8-9167-418cd43327bb",
   "metadata": {},
   "outputs": [],
   "source": [
    "import os\n",
    "from typing import List;\n",
    "\n",
    "awsIgdJson: str = \"../staToolkit/ukbOutMerge.rcd\"\n",
    "assert os.path.exists(awsIgdJson)\n",
    "\n",
    "with open(awsIgdJson, \"r\") as f:\n",
    "    lines: List[str] = f.read().split(\"\\n\")[:-1];"
   ]
  },
  {
   "cell_type": "code",
   "execution_count": 6,
   "id": "066d8391-39af-4a23-97b3-ee3a857dae20",
   "metadata": {},
   "outputs": [
    {
     "name": "stdout",
     "output_type": "stream",
     "text": [
      "{'Id': 1, 'BeginOffset': 0, 'EndOffset': 11, 'Score': 0.7172441482543945, 'Text': 'paracetamol', 'Category': 'MEDICATION', 'Type': 'GENERIC_NAME', 'Traits': []}\n"
     ]
    }
   ],
   "source": [
    "print(lines[-1])"
   ]
  },
  {
   "cell_type": "code",
   "execution_count": 7,
   "id": "39749c9a-90c5-4992-93d5-8b5a51ae4659",
   "metadata": {},
   "outputs": [],
   "source": [
    "from typing import Dict;\n",
    "\n",
    "ukb2Json: Dict[str, List[str]] = dict();\n",
    "_lastName: str;\n",
    "for l in lines:\n",
    "    if l[0] != \"{\":\n",
    "        ukb2Json[l] = [];\n",
    "        _lastName = l;\n",
    "    else:\n",
    "        if not l.__contains__(\"'Category': 'MEDICATION'\"):\n",
    "            continue;\n",
    "        _tmpLParse: str = l.split(\"'Text': \")[1];\n",
    "        _tmpLParse = _tmpLParse.split(\", 'Category'\")[0];\n",
    "        _tmpLParse = _tmpLParse[1:-1];\n",
    "        _tmpLParse = _tmpLParse.replace(\" \", \"%20\");\n",
    "        ukb2Json[_lastName] += _tmpLParse.split(\"/\");"
   ]
  },
  {
   "cell_type": "code",
   "execution_count": 9,
   "id": "ec37ab3d-e185-47bf-a7f3-d18f481b1294",
   "metadata": {},
   "outputs": [
    {
     "name": "stdout",
     "output_type": "stream",
     "text": [
      "vitamin e product [ctsu] ['vitamin%20e']\n",
      "chondroitin product ['chondroitin']\n",
      "co-enzyme q10/ubiquinone/bio-quinone/coenzyme q10 []\n",
      "indigestion remedy (over the counter) []\n",
      "omega-3/fish oil supplement ['omega-3', 'fish%20oil']\n",
      "vitamin c product ['vitamin%20c']\n",
      "evening primrose oil product ['evening%20primrose%20oil']\n",
      "food supplement/plant/herbal extract []\n",
      "st john's wort/hypericum [ctsu] []\n",
      "aloe vera product ['aloe%20vera']\n"
     ]
    }
   ],
   "source": [
    "for k in list(ukb2Json.keys())[:10]:\n",
    "    print(k, ukb2Json[k])"
   ]
  },
  {
   "cell_type": "code",
   "execution_count": 11,
   "id": "66bb388b-bf81-4209-9d09-8eb5eb89acb5",
   "metadata": {},
   "outputs": [],
   "source": [
    "import requests\n",
    "\n",
    "def getDBid(ingredient: str) -> str | None:\n",
    "    uri: str = f\"https://rxnav.nlm.nih.gov/REST/rxcui.json?name={ingredient}\"\n",
    "    j = requests.get(uri).json()\n",
    "    rxnorm: str;\n",
    "    try:\n",
    "        rxnorm = j[\"idGroup\"][\"rxnormId\"][0]\n",
    "    except:\n",
    "        return None\n",
    "    uri2: str = f\"https://rxnav.nlm.nih.gov/REST/rxcui/{rxnorm}/allProperties.json?prop=codes\"\n",
    "    j2 = requests.get(uri2).json()\n",
    "    try:\n",
    "        for prop in j2[\"propConceptGroup\"][\"propConcept\"]:\n",
    "            if prop[\"propName\"] == \"DRUGBANK\":\n",
    "                return prop[\"propValue\"];\n",
    "        return None\n",
    "    except:\n",
    "        return None;\n",
    "    return None;"
   ]
  },
  {
   "cell_type": "code",
   "execution_count": 12,
   "id": "bf47dd45-c13c-48e1-aee2-86b53f29eb5f",
   "metadata": {},
   "outputs": [
    {
     "name": "stdout",
     "output_type": "stream",
     "text": [
      "DB00783\n"
     ]
    }
   ],
   "source": [
    "print(getDBid(\"Estradiol\"))"
   ]
  },
  {
   "cell_type": "code",
   "execution_count": 14,
   "id": "c8a8accd-623c-4c0b-a1f5-124298af7d75",
   "metadata": {},
   "outputs": [
    {
     "name": "stdout",
     "output_type": "stream",
     "text": [
      " 100/6743 processed\n",
      " 200/6743 processed\n",
      " 300/6743 processed\n",
      " 400/6743 processed\n",
      " 500/6743 processed\n",
      " 600/6743 processed\n",
      " 700/6743 processed\n",
      " 800/6743 processed\n",
      " 900/6743 processed\n",
      "1000/6743 processed\n",
      "1100/6743 processed\n",
      "1200/6743 processed\n",
      "1300/6743 processed\n",
      "1400/6743 processed\n",
      "1500/6743 processed\n",
      "1600/6743 processed\n",
      "1700/6743 processed\n",
      "1800/6743 processed\n",
      "1900/6743 processed\n",
      "2000/6743 processed\n",
      "2100/6743 processed\n",
      "2200/6743 processed\n",
      "2300/6743 processed\n",
      "2400/6743 processed\n",
      "2500/6743 processed\n",
      "2600/6743 processed\n",
      "2700/6743 processed\n",
      "2800/6743 processed\n",
      "2900/6743 processed\n",
      "3000/6743 processed\n",
      "3100/6743 processed\n",
      "3200/6743 processed\n",
      "3300/6743 processed\n",
      "3400/6743 processed\n",
      "3500/6743 processed\n",
      "3600/6743 processed\n",
      "3700/6743 processed\n",
      "3800/6743 processed\n",
      "3900/6743 processed\n",
      "4000/6743 processed\n",
      "4100/6743 processed\n",
      "4200/6743 processed\n",
      "4300/6743 processed\n",
      "4400/6743 processed\n",
      "4500/6743 processed\n",
      "4600/6743 processed\n",
      "4700/6743 processed\n",
      "4800/6743 processed\n",
      "4900/6743 processed\n",
      "5000/6743 processed\n",
      "5100/6743 processed\n",
      "5200/6743 processed\n",
      "5300/6743 processed\n",
      "5400/6743 processed\n",
      "5500/6743 processed\n",
      "5600/6743 processed\n",
      "5700/6743 processed\n",
      "5800/6743 processed\n",
      "5900/6743 processed\n",
      "6000/6743 processed\n",
      "6100/6743 processed\n",
      "6200/6743 processed\n",
      "6300/6743 processed\n",
      "6400/6743 processed\n",
      "6500/6743 processed\n",
      "6600/6743 processed\n",
      "6700/6743 processed\n"
     ]
    }
   ],
   "source": [
    "ukb2umlsDb: Dict[str, List[str]] = dict();\n",
    "counter: int = 0;\n",
    "_totalu2j: int = len(list(ukb2Json.keys()));\n",
    "for k in list(ukb2Json.keys()):\n",
    "    ukb2umlsDb[k] = []\n",
    "    for igd in ukb2Json[k]:\n",
    "        dbid: str | None = getDBid(igd);\n",
    "        if dbid is not None:\n",
    "            ukb2umlsDb[k].append(dbid);\n",
    "    counter += 1;\n",
    "    if counter % 100 == 0:\n",
    "        print(f\"{counter:4d}/{_totalu2j} processed\");\n",
    "# print(ukb2umlsDb)"
   ]
  },
  {
   "cell_type": "code",
   "execution_count": 19,
   "id": "0b1e23a8-fe34-413a-bcc6-5cbd0e25e837",
   "metadata": {},
   "outputs": [
    {
     "name": "stdout",
     "output_type": "stream",
     "text": [
      "['DB00030']\n",
      "[]\n"
     ]
    }
   ],
   "source": [
    "print(ukb2umlsDb[\"insulin product\"])\n",
    "print(ukb2umlsDb[\"st john's wort/hypericum [ctsu]\"]);\n",
    "ukb2umlsDb['aluminium hydroxide'] = [\"DB06723\"];"
   ]
  },
  {
   "cell_type": "code",
   "execution_count": 20,
   "id": "88a93ddb-f217-4470-b11e-57d157012c2d",
   "metadata": {},
   "outputs": [],
   "source": [
    "with open(\"../map/ukbMed.map\", \"r\") as f:\n",
    "    names: List[str] = f.read().split(\"\\n\")[1:];\n",
    "\n",
    "ukb2db: Dict[str, List[str] | None] = dict();\n",
    "\n",
    "for n in names:\n",
    "    code, drug = n.split(\"\\t\");\n",
    "    _dbList: List[str] = ukb2umlsDb[drug];\n",
    "    ukb2db[code] = None if len(_dbList) < 1 else _dbList;"
   ]
  },
  {
   "cell_type": "code",
   "execution_count": 21,
   "id": "120fbfef-6842-4938-a779-934e7fec1331",
   "metadata": {},
   "outputs": [
    {
     "ename": "NameError",
     "evalue": "name 'pickle' is not defined",
     "output_type": "error",
     "traceback": [
      "\u001b[31m---------------------------------------------------------------------------\u001b[39m",
      "\u001b[31mNameError\u001b[39m                                 Traceback (most recent call last)",
      "\u001b[36mCell\u001b[39m\u001b[36m \u001b[39m\u001b[32mIn[21]\u001b[39m\u001b[32m, line 2\u001b[39m\n\u001b[32m      1\u001b[39m \u001b[38;5;28;01mwith\u001b[39;00m \u001b[38;5;28mopen\u001b[39m(\u001b[33m\"\u001b[39m\u001b[33m../map/ukb2db.umls.pkl\u001b[39m\u001b[33m\"\u001b[39m, \u001b[33m\"\u001b[39m\u001b[33mwb\u001b[39m\u001b[33m\"\u001b[39m) \u001b[38;5;28;01mas\u001b[39;00m f:\n\u001b[32m----> \u001b[39m\u001b[32m2\u001b[39m     \u001b[43mpickle\u001b[49m.dump(ukb2db, f)\n",
      "\u001b[31mNameError\u001b[39m: name 'pickle' is not defined"
     ]
    }
   ],
   "source": [
    "import pickle\n",
    "\n",
    "with open(\"../map/ukb2db.umls.pkl\", \"wb\") as f:\n",
    "    pickle.dump(ukb2db, f)"
   ]
  },
  {
   "cell_type": "code",
   "execution_count": null,
   "id": "05025e95-19bb-4b68-ae92-7e24a6fd2149",
   "metadata": {},
   "outputs": [],
   "source": []
  }
 ],
 "metadata": {
  "kernelspec": {
   "display_name": "Python 3 (ipykernel)",
   "language": "python",
   "name": "python3"
  },
  "language_info": {
   "codemirror_mode": {
    "name": "ipython",
    "version": 3
   },
   "file_extension": ".py",
   "mimetype": "text/x-python",
   "name": "python",
   "nbconvert_exporter": "python",
   "pygments_lexer": "ipython3",
   "version": "3.11.11"
  }
 },
 "nbformat": 4,
 "nbformat_minor": 5
}
