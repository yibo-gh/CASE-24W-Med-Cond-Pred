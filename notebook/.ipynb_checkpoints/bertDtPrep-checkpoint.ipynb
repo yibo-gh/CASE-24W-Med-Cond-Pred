{
 "cells": [
  {
   "cell_type": "code",
   "execution_count": 3,
   "id": "initial_id",
   "metadata": {
    "ExecuteTime": {
     "end_time": "2025-03-03T23:34:31.740376372Z",
     "start_time": "2025-03-03T23:34:31.739880404Z"
    }
   },
   "outputs": [],
   "source": [
    "tarICD: str = \"E11\";\n",
    "dtOri: str = f\"../data/{tarICD.lower()}.pkl\";\n",
    "allPtRcd: str = \"../data/allPt.pkl\";\n",
    "mpiPkl: str = \"../map/medPerIcd.pkl\""
   ]
  },
  {
   "cell_type": "code",
   "execution_count": 4,
   "id": "6be1d2f181f09efe",
   "metadata": {
    "ExecuteTime": {
     "end_time": "2025-03-03T23:34:46.194733163Z",
     "start_time": "2025-03-03T23:34:46.089867061Z"
    },
    "collapsed": false,
    "jupyter": {
     "outputs_hidden": false
    }
   },
   "outputs": [],
   "source": [
    "import os;\n",
    "assert os.path.exists(allPtRcd) and os.path.exists(mpiPkl);"
   ]
  },
  {
   "cell_type": "code",
   "execution_count": 5,
   "id": "a151deb154e6f858",
   "metadata": {
    "ExecuteTime": {
     "end_time": "2025-03-03T23:34:48.429752635Z",
     "start_time": "2025-03-03T23:34:48.428647732Z"
    },
    "collapsed": false,
    "jupyter": {
     "outputs_hidden": false
    }
   },
   "outputs": [],
   "source": [
    "import pickle;\n",
    "\n",
    "def __service_loadPickle(uri: str) -> any:\n",
    "    assert os.path.exists(uri);\n",
    "    with open(uri, \"rb\") as f:\n",
    "        return pickle.load(f);"
   ]
  },
  {
   "cell_type": "code",
   "execution_count": 6,
   "id": "92af14ff3ef5e3ca",
   "metadata": {
    "ExecuteTime": {
     "end_time": "2025-03-03T23:35:15.782962212Z",
     "start_time": "2025-03-03T23:34:49.609074297Z"
    },
    "collapsed": false,
    "jupyter": {
     "outputs_hidden": false
    }
   },
   "outputs": [],
   "source": [
    "from typing import Dict, List;\n",
    "from obj.pt import Pt;\n",
    "\n",
    "allPt: Dict[str, Pt] = __service_loadPickle(allPtRcd);\n",
    "medPerIcdDict: Dict[str, List[str]]; parIcdMedCount: Dict[str, List[str]];\n",
    "medPerIcdDict, parIcdMedCount = __service_loadPickle(mpiPkl);"
   ]
  },
  {
   "cell_type": "code",
   "execution_count": 7,
   "id": "5b36e8cf780cc346",
   "metadata": {
    "ExecuteTime": {
     "end_time": "2025-03-03T23:35:17.520263317Z",
     "start_time": "2025-03-03T23:35:17.518780278Z"
    },
    "collapsed": false,
    "jupyter": {
     "outputs_hidden": false
    }
   },
   "outputs": [
    {
     "name": "stdout",
     "output_type": "stream",
     "text": [
      "502131\n"
     ]
    }
   ],
   "source": [
    "print(len(allPt.keys()))"
   ]
  },
  {
   "cell_type": "code",
   "execution_count": 9,
   "id": "5ca31d657851475a",
   "metadata": {
    "ExecuteTime": {
     "end_time": "2025-03-03T23:35:19.102180431Z",
     "start_time": "2025-03-03T23:35:19.053743001Z"
    },
    "collapsed": false,
    "jupyter": {
     "outputs_hidden": false
    }
   },
   "outputs": [
    {
     "name": "stdout",
     "output_type": "stream",
     "text": [
      "6745\n"
     ]
    }
   ],
   "source": [
    "ukbMap: Dict[str, str] = dict();\n",
    "\n",
    "ukbMedList: List[str]\n",
    "with open(\"../map/ukbMed.map\", \"r\") as f:\n",
    "    ukbMedList = f.read().split(\"\\n\")[1:];\n",
    "    \n",
    "for m in ukbMedList:\n",
    "    code, name = m.split(\"\\t\");\n",
    "    ukbMap[code] = name;"
   ]
  },
  {
   "cell_type": "code",
   "execution_count": 2,
   "id": "856782326649cdb5",
   "metadata": {
    "collapsed": false,
    "jupyter": {
     "outputs_hidden": false
    }
   },
   "outputs": [
    {
     "name": "stdout",
     "output_type": "stream",
     "text": [
      "<models.transfomer.PtDS object at 0x7f17e2e45c10>\n"
     ]
    }
   ],
   "source": [
    "oriPkl: str = \"../data/e11.pkl\";\n",
    "import pickle;\n",
    "from models.transfomer import PtDS;\n",
    "\n",
    "with open(oriPkl, \"rb\") as f:\n",
    "    upk = pickle.load(f);\n",
    "print(upk)"
   ]
  },
  {
   "cell_type": "code",
   "execution_count": 22,
   "id": "e28e54c6-1b52-4d11-97ab-596266717d49",
   "metadata": {},
   "outputs": [
    {
     "name": "stdout",
     "output_type": "stream",
     "text": [
      "17420 13936 3484\n"
     ]
    }
   ],
   "source": [
    "import torch;\n",
    "import numpy as np;\n",
    "\n",
    "allId: np.ndarray = upk.x[upk.ym == 1][:, 0].view(-1).numpy().astype(int);\n",
    "gtY: np.ndarray = upk.y[upk.ym == 1].numpy().astype(int);\n",
    "# print(allId, gtY)\n",
    "assert len(allId) == len(gtY);\n",
    "\n",
    "trainIdx: np.ndarray = np.array([False for _ in range(len(allId))]);\n",
    "trainSelect: np.ndarray = np.random.choice(len(allId), size=int(len(allId) * .8), replace=False);\n",
    "trainIdx[trainSelect] = True;\n",
    "testIdx: np.ndarray = np.array([False for _ in range(len(allId))]);\n",
    "testIdx[trainIdx == False] = True;\n",
    "# print(len(allId), np.sum(trainIdx), np.sum(testIdx));"
   ]
  },
  {
   "cell_type": "code",
   "execution_count": null,
   "id": "67a0b27e-8826-487c-b393-5bef88254d89",
   "metadata": {},
   "outputs": [],
   "source": []
  }
 ],
 "metadata": {
  "kernelspec": {
   "display_name": "Python 3 (ipykernel)",
   "language": "python",
   "name": "python3"
  },
  "language_info": {
   "codemirror_mode": {
    "name": "ipython",
    "version": 3
   },
   "file_extension": ".py",
   "mimetype": "text/x-python",
   "name": "python",
   "nbconvert_exporter": "python",
   "pygments_lexer": "ipython3",
   "version": "3.11.11"
  }
 },
 "nbformat": 4,
 "nbformat_minor": 5
}
