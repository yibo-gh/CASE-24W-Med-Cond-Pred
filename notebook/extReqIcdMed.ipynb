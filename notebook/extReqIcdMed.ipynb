{
 "cells": [
  {
   "cell_type": "code",
   "execution_count": 4,
   "id": "b8d69562-7ec2-4f9d-a336-7d295c45ef22",
   "metadata": {},
   "outputs": [
    {
     "name": "stdout",
     "output_type": "stream",
     "text": [
      "502131\n"
     ]
    }
   ],
   "source": [
    "allPtUri: str = \"../data/allPt.pkl\";\n",
    "import os;\n",
    "assert os.path.exists(allPtUri);\n",
    "\n",
    "from obj.pt import Pt;\n",
    "from typing import Dict;\n",
    "import pickle;\n",
    "\n",
    "ptDict: Dict[str, Pt];\n",
    "with open(allPtUri, \"rb\") as f:\n",
    "    ptDict = pickle.load(f);\n",
    "\n",
    "print(len(ptDict.keys()));"
   ]
  },
  {
   "cell_type": "code",
   "execution_count": 14,
   "id": "43b5ca0e-d716-48b1-b013-11b9ee981e32",
   "metadata": {},
   "outputs": [],
   "source": [
    "ukb2dbUri: str = \"../map/ukb2db.pkl\";\n",
    "assert os.path.exists(ukb2dbUri);\n",
    "from typing import List;\n",
    "ukb2db: Dict[str, List[str]];\n",
    "\n",
    "with open(ukb2dbUri, \"rb\") as f:\n",
    "    ukb2db = pickle.load(f);"
   ]
  },
  {
   "cell_type": "code",
   "execution_count": 18,
   "id": "cb5816e4-7180-43fa-845d-7b107a882f13",
   "metadata": {},
   "outputs": [],
   "source": [
    "tar: str = \"E11\";\n",
    "\n",
    "from obj.pt import EvtClass;\n",
    "icdDict: Dict[str, int] = dict();\n",
    "medDict: dict[str, int] = dict();\n",
    "\n",
    "def appendMedUkbCode(ukbMed: str) -> None:\n",
    "    try:\n",
    "        __dbCodeList: List[str] | None = ukb2db[ukbMed];\n",
    "    except KeyError:\n",
    "        return;\n",
    "    if __dbCodeList is None:\n",
    "        return;\n",
    "    for __dbCode in __dbCodeList:\n",
    "        medDict[__dbCode] = 0;\n",
    "\n",
    "for k in ptDict.keys():\n",
    "    pt: Pt = ptDict[k];\n",
    "    for evt in pt.evtList:\n",
    "        if evt.type == EvtClass.Med:\n",
    "            for c in evt.cont:\n",
    "                appendMedUkbCode(c);\n",
    "        elif evt.type == EvtClass.Dig:\n",
    "            __dig = evt.cont[0];\n",
    "            icdDict[__dig] = 0;\n",
    "            if __dig[:3].lower() == tar.lower():\n",
    "                break;\n",
    "            for c in evt.assoMed:\n",
    "                appendMedUkbCode(c);"
   ]
  },
  {
   "cell_type": "code",
   "execution_count": 19,
   "id": "fe9859eb-b2ac-4f7b-a801-7f4a7bd6ce8e",
   "metadata": {},
   "outputs": [
    {
     "name": "stdout",
     "output_type": "stream",
     "text": [
      "15439\n",
      "1000\n"
     ]
    }
   ],
   "source": [
    "print(len(list(icdDict.keys())))\n",
    "print(len(list(medDict.keys())))"
   ]
  },
  {
   "cell_type": "code",
   "execution_count": 20,
   "id": "13839c11-35f1-40cb-9008-7d3c15f130e3",
   "metadata": {},
   "outputs": [],
   "source": [
    "with open(\"ptIcd.rcd\", \"w\") as f:\n",
    "    for k in icdDict.keys():\n",
    "        f.write(f\"{k}\\n\");\n",
    "with open(\"ptMed.rcd\", \"w\") as f:\n",
    "    for k in medDict.keys():\n",
    "        f.write(f\"{k}\\n\");"
   ]
  },
  {
   "cell_type": "code",
   "execution_count": null,
   "id": "1948058a-f2c4-47b8-9c2d-d0983eb65614",
   "metadata": {},
   "outputs": [],
   "source": []
  }
 ],
 "metadata": {
  "kernelspec": {
   "display_name": "Python 3 (ipykernel)",
   "language": "python",
   "name": "python3"
  },
  "language_info": {
   "codemirror_mode": {
    "name": "ipython",
    "version": 3
   },
   "file_extension": ".py",
   "mimetype": "text/x-python",
   "name": "python",
   "nbconvert_exporter": "python",
   "pygments_lexer": "ipython3",
   "version": "3.11.11"
  }
 },
 "nbformat": 4,
 "nbformat_minor": 5
}
