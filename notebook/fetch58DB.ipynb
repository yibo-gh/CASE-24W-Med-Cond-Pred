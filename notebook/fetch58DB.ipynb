{
 "cells": [
  {
   "cell_type": "code",
   "execution_count": 1,
   "id": "0b186514-a89e-45d8-b74b-55d49c0ae91d",
   "metadata": {},
   "outputs": [],
   "source": [
    "import pickle;\n",
    "import os;\n",
    "from typing import Dict, List;\n",
    "\n",
    "import sys;\n",
    "sys.path.append(\"..\");\n",
    "\n",
    "from obj.pt import Pt;\n",
    "\n",
    "ukb2db: str = \"../map/ukb2db.pkl\";\n",
    "allPt: str = \"../data/allPt.pkl\";\n",
    "\n",
    "u2d: Dict[str, List[str] | None];\n",
    "ap: Dict[str, Pt];\n",
    "\n",
    "assert os.path.exists(ukb2db);\n",
    "assert os.path.exists(allPt);\n",
    "\n",
    "with open(ukb2db, \"rb\") as f:\n",
    "    u2d = pickle.load(f);\n",
    "with open(allPt, \"rb\") as f:\n",
    "    allPt = pickle.load(f);"
   ]
  },
  {
   "cell_type": "code",
   "execution_count": 2,
   "id": "f8a24233-7cb3-4563-b684-71c3a6b29936",
   "metadata": {},
   "outputs": [],
   "source": [
    "from obj.pt import EvtClass;\n",
    "\n",
    "def getTarY(allPt: Dict[str, Pt], icd: str) -> List[str]:\n",
    "    __tmpMedMap: Dict[str, int] = dict();\n",
    "    for p in list(allPt.keys()):\n",
    "        pt: Pt = allPt[p];\n",
    "        for e in pt.evtList:\n",
    "            if e.type != EvtClass.Dig or e.cont[0][:3].lower() != icd[:3].lower():\n",
    "                continue;\n",
    "            for m in e.assoMed:\n",
    "                # print(f\"ekg::47 {p} {m}\")\n",
    "                __tmpMedMap[m] = 0;\n",
    "    __medList: List[str] = list(__tmpMedMap.keys());\n",
    "    return __medList;\n",
    "\n",
    "def loadUkbIdxName(ukb: str = \"../map/ukbMed.map\") -> Dict[str, str]:\n",
    "    assert os.path.exists(ukb);\n",
    "    with open(ukb, \"r\") as f:\n",
    "        lines: List[str] = f.read().split(\"\\n\")[1:];\n",
    "    ret: Dict[str, str] = dict();\n",
    "    for l in lines:\n",
    "        idx, name = l.split(\"\\t\");\n",
    "        ret[idx] = name;\n",
    "    return ret;\n"
   ]
  },
  {
   "cell_type": "code",
   "execution_count": 3,
   "id": "b6779fdc-f0bb-441a-b84b-aae146c15588",
   "metadata": {},
   "outputs": [
    {
     "name": "stdout",
     "output_type": "stream",
     "text": [
      "['DB01393', 'DB01029', 'DB01132', 'DB01023', 'DB00678', 'DB00310', 'DB00284', 'DB01098', 'DB00264', 'DB01156', 'DB01076', 'DB01016', 'DB01242', 'DB00492', 'DB01067', 'DB01124', 'DB14003', 'DB00412', 'DB00178', 'DB00222', 'DB00641', 'DB09270', 'DB01120', 'DB01390', 'DB00519', 'DB00966', 'DB00912', 'DB00731', 'DB00331', 'DB00999'] 30\n"
     ]
    }
   ],
   "source": [
    "allMeds: List[str] = getTarY(allPt, \"E11\");\n",
    "ukbIdxName: Dict[str, str] = loadUkbIdxName();\n",
    "u2d[\"1140888646\"] = u2d[\"1140888646\"][:1];\n",
    "u2d[\"1140860904\"] = u2d[\"1140860904\"][:1];\n",
    "\n",
    "amDb: List[str] = [];\n",
    "for am in allMeds:\n",
    "    amDb += u2d[am];\n",
    "    # if len(u2d[am]) > 1:\n",
    "    #     print(am, ukbIdxName[am], u2d[am]);\n",
    "amDb = list(set(amDb));\n",
    "print(amDb, len(amDb));"
   ]
  },
  {
   "cell_type": "code",
   "execution_count": 4,
   "id": "6ea87f8c-42cd-47d3-b11e-1b80746de373",
   "metadata": {},
   "outputs": [],
   "source": [
    "kgEmb: str = \"../data/kgEmb2.pkl\";\n",
    "\n",
    "with open(kgEmb, \"rb\") as f:\n",
    "    _, medPkl = pickle.load(f);\n",
    "\n",
    "for ad in amDb:\n",
    "    try:\n",
    "        medPkl[ad];\n",
    "    except:\n",
    "        print(f\"{ad} not found\")"
   ]
  },
  {
   "cell_type": "code",
   "execution_count": null,
   "id": "72681ecd-0da9-43c2-ae03-0ffc4885887c",
   "metadata": {},
   "outputs": [],
   "source": []
  }
 ],
 "metadata": {
  "kernelspec": {
   "display_name": "Python 3 (ipykernel)",
   "language": "python",
   "name": "python3"
  },
  "language_info": {
   "codemirror_mode": {
    "name": "ipython",
    "version": 3
   },
   "file_extension": ".py",
   "mimetype": "text/x-python",
   "name": "python",
   "nbconvert_exporter": "python",
   "pygments_lexer": "ipython3",
   "version": "3.11.11"
  }
 },
 "nbformat": 4,
 "nbformat_minor": 5
}
